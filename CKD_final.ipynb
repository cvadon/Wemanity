{
 "cells": [
  {
   "cell_type": "code",
   "execution_count": 2,
   "metadata": {
    "_cell_guid": "b1076dfc-b9ad-4769-8c92-a6c4dae69d19",
    "_uuid": "8f2839f25d086af736a60e9eeb907d3b93b6e0e5",
    "execution": {
     "iopub.execute_input": "2022-10-19T11:55:18.699846Z",
     "iopub.status.busy": "2022-10-19T11:55:18.699421Z",
     "iopub.status.idle": "2022-10-19T11:55:18.713848Z",
     "shell.execute_reply": "2022-10-19T11:55:18.712939Z",
     "shell.execute_reply.started": "2022-10-19T11:55:18.699813Z"
    }
   },
   "outputs": [],
   "source": [
    "# This Python 3 environment comes with many helpful analytics libraries installed\n",
    "# It is defined by the kaggle/python Docker image: https://github.com/kaggle/docker-python\n",
    "# For example, here's several helpful packages to load\n",
    "\n",
    "import numpy as np # linear algebra\n",
    "import pandas as pd # data processing, CSV file I/O (e.g. pd.read_csv)\n",
    "import seaborn as sns \n",
    "import matplotlib.pyplot as plt\n",
    "# Model training\n",
    "\n",
    "from sklearn.model_selection import GridSearchCV\n",
    "from sklearn.model_selection import RandomizedSearchCV\n",
    "\n"
   ]
  },
  {
   "cell_type": "code",
   "execution_count": 4,
   "metadata": {
    "execution": {
     "iopub.execute_input": "2022-10-19T11:55:20.683845Z",
     "iopub.status.busy": "2022-10-19T11:55:20.683456Z",
     "iopub.status.idle": "2022-10-19T11:55:20.690817Z",
     "shell.execute_reply": "2022-10-19T11:55:20.689581Z",
     "shell.execute_reply.started": "2022-10-19T11:55:20.683815Z"
    }
   },
   "outputs": [],
   "source": [
    "from sklearn.model_selection import cross_val_score \n",
    "from sklearn.naive_bayes import GaussianNB \n",
    "from sklearn.linear_model import LogisticRegression \n",
    "from sklearn import tree \n",
    "from sklearn.neighbors import KNeighborsClassifier \n",
    "from sklearn.ensemble import RandomForestClassifier \n",
    "from sklearn.svm import SVC\n",
    "from xgboost import XGBClassifier\n",
    "from sklearn.ensemble import VotingClassifier"
   ]
  },
  {
   "cell_type": "code",
   "execution_count": 5,
   "metadata": {
    "execution": {
     "iopub.execute_input": "2022-10-19T11:55:22.287240Z",
     "iopub.status.busy": "2022-10-19T11:55:22.286836Z",
     "iopub.status.idle": "2022-10-19T11:55:22.333212Z",
     "shell.execute_reply": "2022-10-19T11:55:22.332225Z",
     "shell.execute_reply.started": "2022-10-19T11:55:22.287209Z"
    }
   },
   "outputs": [],
   "source": [
    "data_full = pd.read_csv('dataset_full.csv',na_values='?')\n",
    "data_desease = pd.read_csv('dataset_desease.csv',na_values='?')\n",
    "\n",
    "\n",
    "df_num_col = []\n",
    "df_cat_col = []\n",
    "for col in data_full.columns :\n",
    "    if data_full[col].dtype == 'object':\n",
    "        df_cat_col.append(col)\n",
    "    else:\n",
    "        df_num_col.append(col)\n",
    "        \n",
    "data_full_remplace = data_full.copy()\n",
    "\n",
    "data_full_remplace = data_full_remplace.replace('yes',1)\n",
    "data_full_remplace = data_full_remplace.replace('no',0)\n",
    "\n",
    "data_full_remplace = data_full_remplace.replace('present',1)\n",
    "data_full_remplace = data_full_remplace.replace('notpresent',0)\n",
    "\n",
    "data_full_remplace = data_full_remplace.replace('normal',1)\n",
    "data_full_remplace = data_full_remplace.replace('abnormal',0)\n",
    "\n",
    "data_full_remplace = data_full_remplace.replace('good',1)\n",
    "data_full_remplace = data_full_remplace.replace('poor',0)\n",
    "\n",
    "data_full_remplace = data_full_remplace.replace('ckd',1)\n",
    "data_full_remplace = data_full_remplace.replace('notckd',0)\n",
    "\n",
    "for col in df_num_col :\n",
    "    data_full_remplace[col]= data_full_remplace[col].fillna(data_full_remplace[col].mean())\n",
    "    \n",
    "# 1ere idée pour les models : drop la colonne Red_Blood_Cells et Pus_Cell qui contient 38% et 18% d'inconnues\n",
    "drop_col = ['Red_Blood_Cells','Pus_Cell']\n",
    "# les autres on remplace par la médiane\n",
    "data_full_remplace_drop = data_full_remplace.copy()\n",
    "data_full_remplace_drop=data_full_remplace_drop.drop(['Red_Blood_Cells','Pus_Cell'],axis=1)\n",
    "\n",
    "for col in df_cat_col :\n",
    "    if col != 'Red_Blood_Cells' and col != 'Pus_Cell' :\n",
    "        data_full_remplace_drop[col]= data_full_remplace_drop[col].fillna(data_full_remplace_drop[col].median())\n",
    "\n"
   ]
  },
  {
   "cell_type": "code",
   "execution_count": 22,
   "metadata": {
    "execution": {
     "iopub.execute_input": "2022-10-19T12:00:32.194040Z",
     "iopub.status.busy": "2022-10-19T12:00:32.193588Z",
     "iopub.status.idle": "2022-10-19T12:00:32.206254Z",
     "shell.execute_reply": "2022-10-19T12:00:32.205344Z",
     "shell.execute_reply.started": "2022-10-19T12:00:32.194003Z"
    }
   },
   "outputs": [],
   "source": [
    "def preprocessing(dataset):\n",
    "    df_num_col = []\n",
    "    df_cat_col = []\n",
    "    for col in dataset.columns :\n",
    "        if dataset[col].dtype == 'object':\n",
    "            df_cat_col.append(col)\n",
    "        else:\n",
    "            df_num_col.append(col)\n",
    "\n",
    "    data_full_remplace = dataset.copy()\n",
    "\n",
    "    data_full_remplace = data_full_remplace.replace('yes',1)\n",
    "    data_full_remplace = data_full_remplace.replace('no',0)\n",
    "\n",
    "    data_full_remplace = data_full_remplace.replace('present',1)\n",
    "    data_full_remplace = data_full_remplace.replace('notpresent',0)\n",
    "\n",
    "    data_full_remplace = data_full_remplace.replace('normal',1)\n",
    "    data_full_remplace = data_full_remplace.replace('abnormal',0)\n",
    "\n",
    "    data_full_remplace = data_full_remplace.replace('good',1)\n",
    "    data_full_remplace = data_full_remplace.replace('poor',0)\n",
    "\n",
    "    data_full_remplace = data_full_remplace.replace('ckd',1)\n",
    "    data_full_remplace = data_full_remplace.replace('notckd',0)\n",
    "\n",
    "    for col in df_num_col :\n",
    "        data_full_remplace[col]= data_full_remplace[col].fillna(data_full_remplace[col].mean())\n",
    "\n",
    "    # 1ere idée pour les models : drop la colonne Red_Blood_Cells et Pus_Cell qui contient 38% et 18% d'inconnues\n",
    "    drop_col = ['Red_Blood_Cells','Pus_Cell']\n",
    "    # les autres on remplace par la médiane\n",
    "    data_full_remplace_drop = data_full_remplace.copy()\n",
    "    data_full_remplace_drop=data_full_remplace_drop.drop(['Red_Blood_Cells','Pus_Cell'],axis=1)\n",
    "\n",
    "    for col in df_cat_col :\n",
    "        if col != 'Red_Blood_Cells' and col != 'Pus_Cell' :\n",
    "            data_full_remplace_drop[col]= data_full_remplace_drop[col].fillna(data_full_remplace_drop[col].median())\n",
    "    data_full_remplace_drop = data_full_remplace_drop.drop(['Class'],axis = 1)\n",
    "    return(data_full_remplace_drop)\n",
    "def return_pred(dataset):\n",
    "    dataset.to_csv('out.csv',index=False)"
   ]
  },
  {
   "cell_type": "code",
   "execution_count": 6,
   "metadata": {
    "execution": {
     "iopub.execute_input": "2022-10-19T11:55:26.026020Z",
     "iopub.status.busy": "2022-10-19T11:55:26.025248Z",
     "iopub.status.idle": "2022-10-19T11:55:26.034868Z",
     "shell.execute_reply": "2022-10-19T11:55:26.033614Z",
     "shell.execute_reply.started": "2022-10-19T11:55:26.025984Z"
    }
   },
   "outputs": [],
   "source": [
    "X = data_full_remplace_drop.copy().drop(['Class'],axis=1)\n",
    "y = data_full_remplace_drop['Class']\n",
    "        \n",
    "from sklearn.model_selection import train_test_split\n",
    "train_X, val_X, train_y, val_y = train_test_split(X,y,random_state=0,train_size=0.8, test_size=0.2)     "
   ]
  },
  {
   "cell_type": "code",
   "execution_count": 7,
   "metadata": {
    "execution": {
     "iopub.execute_input": "2022-10-19T11:56:14.693789Z",
     "iopub.status.busy": "2022-10-19T11:56:14.693355Z",
     "iopub.status.idle": "2022-10-19T11:56:14.703123Z",
     "shell.execute_reply": "2022-10-19T11:56:14.701430Z",
     "shell.execute_reply.started": "2022-10-19T11:56:14.693754Z"
    }
   },
   "outputs": [],
   "source": [
    "lr = LogisticRegression(C= 78.47599703514607, max_iter= 2000, penalty='l2', solver= 'liblinear')\n",
    "knn = KNeighborsClassifier(algorithm= 'auto', n_neighbors= 3, p= 1, weights= 'uniform')\n",
    "svc = SVC(probability=True,C= 0.1, kernel= 'linear')\n",
    "rf = RandomForestClassifier(bootstrap= False, max_depth= 10, min_samples_leaf= 2, min_samples_split= 2, n_estimators= 400)\n",
    "xgb = XGBClassifier(colsample_bytree= 0.75, gamma= 0.5, learning_rate= 0.5, max_depth= None, min_child_weight= 0.01, n_estimators= 450, reg_alpha= 1, reg_lambda= 10, sampling_method= 'uniform', subsample= 0.65)\n"
   ]
  },
  {
   "cell_type": "code",
   "execution_count": 8,
   "metadata": {
    "execution": {
     "iopub.execute_input": "2022-10-19T11:56:16.506661Z",
     "iopub.status.busy": "2022-10-19T11:56:16.505651Z",
     "iopub.status.idle": "2022-10-19T11:56:53.042939Z",
     "shell.execute_reply": "2022-10-19T11:56:53.042002Z",
     "shell.execute_reply.started": "2022-10-19T11:56:16.506623Z"
    }
   },
   "outputs": [
    {
     "name": "stderr",
     "output_type": "stream",
     "text": [
      "/Library/Frameworks/Python.framework/Versions/3.9/lib/python3.9/site-packages/sklearn/ensemble/_forest.py:427: FutureWarning: `max_features='auto'` has been deprecated in 1.1 and will be removed in 1.3. To keep the past behaviour, explicitly set `max_features='sqrt'` or remove this parameter as it is also the default value for RandomForestClassifiers and ExtraTreesClassifiers.\n",
      "  warn(\n"
     ]
    }
   ],
   "source": [
    "best_lr = lr.fit(train_X,train_y)\n",
    "best_knn = knn.fit(train_X,train_y)\n",
    "best_svc = svc.fit(train_X,train_y)\n",
    "best_rf = rf.fit(train_X,train_y)\n",
    "best_xgb = xgb.fit(train_X,train_y)"
   ]
  },
  {
   "cell_type": "code",
   "execution_count": 9,
   "metadata": {
    "execution": {
     "iopub.execute_input": "2022-10-19T11:57:04.111138Z",
     "iopub.status.busy": "2022-10-19T11:57:04.110722Z",
     "iopub.status.idle": "2022-10-19T11:57:52.354137Z",
     "shell.execute_reply": "2022-10-19T11:57:52.353225Z",
     "shell.execute_reply.started": "2022-10-19T11:57:04.111105Z"
    }
   },
   "outputs": [
    {
     "name": "stderr",
     "output_type": "stream",
     "text": [
      "/Library/Frameworks/Python.framework/Versions/3.9/lib/python3.9/site-packages/sklearn/ensemble/_forest.py:427: FutureWarning: `max_features='auto'` has been deprecated in 1.1 and will be removed in 1.3. To keep the past behaviour, explicitly set `max_features='sqrt'` or remove this parameter as it is also the default value for RandomForestClassifiers and ExtraTreesClassifiers.\n",
      "  warn(\n"
     ]
    }
   ],
   "source": [
    "voting = VotingClassifier(estimators=[('knn',best_knn),('rf',best_rf),('svc',best_svc),('lr',best_lr),('xgb',best_xgb)],voting='hard')\n",
    "voting.fit(train_X,train_y)\n",
    "preds = voting.predict(val_X)"
   ]
  },
  {
   "cell_type": "code",
   "execution_count": 13,
   "metadata": {
    "execution": {
     "iopub.execute_input": "2022-10-19T11:58:26.359121Z",
     "iopub.status.busy": "2022-10-19T11:58:26.358714Z",
     "iopub.status.idle": "2022-10-19T11:58:26.440288Z",
     "shell.execute_reply": "2022-10-19T11:58:26.439377Z",
     "shell.execute_reply.started": "2022-10-19T11:58:26.359086Z"
    }
   },
   "outputs": [],
   "source": [
    "test_data = pd.read_csv('dataset_test.csv',na_values='?')\n",
    "data_test = preprocessing(test_data)\n",
    "preds = voting.predict(data_test)"
   ]
  },
  {
   "cell_type": "code",
   "execution_count": 17,
   "metadata": {},
   "outputs": [],
   "source": [
    "test_data['Class']=preds"
   ]
  },
  {
   "cell_type": "code",
   "execution_count": 23,
   "metadata": {},
   "outputs": [],
   "source": [
    "return_pred(test_data)"
   ]
  },
  {
   "cell_type": "code",
   "execution_count": null,
   "metadata": {},
   "outputs": [],
   "source": []
  }
 ],
 "metadata": {
  "kernelspec": {
   "display_name": "Python 3 (ipykernel)",
   "language": "python",
   "name": "python3"
  },
  "language_info": {
   "codemirror_mode": {
    "name": "ipython",
    "version": 3
   },
   "file_extension": ".py",
   "mimetype": "text/x-python",
   "name": "python",
   "nbconvert_exporter": "python",
   "pygments_lexer": "ipython3",
   "version": "3.9.5"
  }
 },
 "nbformat": 4,
 "nbformat_minor": 4
}
